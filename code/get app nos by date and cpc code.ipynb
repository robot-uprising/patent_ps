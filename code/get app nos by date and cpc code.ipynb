{
 "cells": [
  {
   "cell_type": "code",
   "execution_count": 1,
   "metadata": {
    "collapsed": true
   },
   "outputs": [],
   "source": [
    "import numpy as np\n",
    "import pandas as pd\n",
    "import pickle\n",
    "from tqdm import tqdm"
   ]
  },
  {
   "cell_type": "code",
   "execution_count": 2,
   "metadata": {
    "collapsed": true
   },
   "outputs": [],
   "source": [
    "sgid = ['C12Q1/68', 'C12N15/09', 'C12M1/00']\n",
    "sgid1 = ['C12M', 'C12M', 'C12P', 'C12Q', 'C12R', 'C12Y']\n",
    "fields = ['uuid', 'patent_id','section_id', 'subsection_id', 'group_id'\n",
    "                            'subgroup_id', 'category', 'sequence']\n",
    "output = []\n",
    "post_mayo = []\n",
    "doink = []"
   ]
  },
  {
   "cell_type": "code",
   "execution_count": null,
   "metadata": {
    "collapsed": true
   },
   "outputs": [],
   "source": []
  },
  {
   "cell_type": "code",
   "execution_count": 12,
   "metadata": {
    "collapsed": true
   },
   "outputs": [],
   "source": [
    "with open('C:\\\\Users\\\\mgordon\\\\repos\\\\patents\\\\cpc_output.pickle','wb') as g:\n",
    "    with open('C:\\\\Users\\\\mgordon\\\\repos\\\\patents\\\\cpc_current.tsv','r') as f:\n",
    "        for chunk in pd.read_table(f, delimiter = '\\t', chunksize=1000000):\n",
    "            output.append(chunk[chunk['group_id'].isin(sgid1)]['patent_id'])\n",
    "    out = np.asarray(output)\n",
    "    flat = [i for j in out for i in j]\n",
    "    for i in flat:\n",
    "        if i > 8341762:\n",
    "            post_mayo.append(i)\n",
    "    q = 0\n",
    "    post_mayo.sort()\n",
    "    for i in post_mayo:\n",
    "        if i == q:\n",
    "            pass\n",
    "        else:\n",
    "            doink.append(i)\n",
    "        q = i    \n",
    "    pickle.dump(doink, g, pickle.HIGHEST_PROTOCOL)"
   ]
  },
  {
   "cell_type": "code",
   "execution_count": 7,
   "metadata": {
    "scrolled": true
   },
   "outputs": [
    {
     "data": {
      "text/plain": [
       "21812"
      ]
     },
     "execution_count": 7,
     "metadata": {},
     "output_type": "execute_result"
    }
   ],
   "source": [
    "len(doink)"
   ]
  },
  {
   "cell_type": "code",
   "execution_count": null,
   "metadata": {
    "collapsed": true
   },
   "outputs": [],
   "source": [
    "output = []\n",
    "post_mayo = []\n",
    "doink = []\n",
    "with open('C:\\\\Users\\\\mgordon\\\\repos\\\\patents\\\\cpc_output_subgroup.pickle','wb') as g:\n",
    "    with open('C:\\\\Users\\\\mgordon\\\\repos\\\\patents\\\\cpc_current.tsv','r') as f:\n",
    "        for chunk in pd.read_table(f, delimiter = '\\t', chunksize=1000000):\n",
    "            output.append(chunk[chunk['subgroup_id'].isin(sgid)]['patent_id'])\n",
    "    out = np.asarray(output)\n",
    "    flat = [i for j in out for i in j]\n",
    "    for i in flat:\n",
    "        if i > 8341762:\n",
    "            post_mayo.append(i)\n",
    "    q = 0\n",
    "    post_mayo.sort()\n",
    "    for i in post_mayo:\n",
    "        if i == q:\n",
    "            pass\n",
    "        else:\n",
    "            doink.append(i)\n",
    "        q = i    \n",
    "    pickle.dump(doink, g, pickle.HIGHEST_PROTOCOL)"
   ]
  },
  {
   "cell_type": "code",
   "execution_count": 11,
   "metadata": {},
   "outputs": [
    {
     "data": {
      "text/plain": [
       "594"
      ]
     },
     "execution_count": 11,
     "metadata": {},
     "output_type": "execute_result"
    }
   ],
   "source": [
    "len(doink)"
   ]
  },
  {
   "cell_type": "code",
   "execution_count": null,
   "metadata": {
    "collapsed": true
   },
   "outputs": [],
   "source": [
    "with open('C:\\\\Users\\\\mgordon\\\\repos\\\\patents\\\\post_mayo_output.pickle','wb') as g:\n",
    "    pickle.dump(post_mayo, g, pickle.HIGHEST_PROTOCOL)"
   ]
  },
  {
   "cell_type": "code",
   "execution_count": null,
   "metadata": {
    "collapsed": true
   },
   "outputs": [],
   "source": [
    "f = open('C:\\\\Users\\\\mgordon\\\\repos\\\\patents\\\\cpc_current.tsv','r')\n",
    "chunky = pd.read_table(f, delimiter = '\\t', chunksize=1000)"
   ]
  },
  {
   "cell_type": "code",
   "execution_count": null,
   "metadata": {
    "collapsed": true
   },
   "outputs": [],
   "source": [
    "with open('C:\\\\Users\\\\mgordon\\\\repos\\\\patents\\\\post_mayo_output.pickle','rb') as g:\n",
    "    foofoo = pickle.load(g)"
   ]
  },
  {
   "cell_type": "code",
   "execution_count": null,
   "metadata": {
    "collapsed": true
   },
   "outputs": [],
   "source": [
    "len(foofoo)"
   ]
  },
  {
   "cell_type": "code",
   "execution_count": null,
   "metadata": {
    "collapsed": true
   },
   "outputs": [],
   "source": [
    "foofoo"
   ]
  },
  {
   "cell_type": "code",
   "execution_count": null,
   "metadata": {
    "collapsed": true
   },
   "outputs": [],
   "source": [
    "foofoo.sort()"
   ]
  },
  {
   "cell_type": "code",
   "execution_count": null,
   "metadata": {
    "collapsed": true
   },
   "outputs": [],
   "source": [
    "doink = []\n",
    "q = 0\n",
    "for i in foofoo:\n",
    "    if i == q:\n",
    "        pass\n",
    "    else:\n",
    "        doink.append(i)\n",
    "    q = i"
   ]
  },
  {
   "cell_type": "code",
   "execution_count": null,
   "metadata": {
    "collapsed": true
   },
   "outputs": [],
   "source": [
    "len(doink)"
   ]
  },
  {
   "cell_type": "code",
   "execution_count": null,
   "metadata": {
    "collapsed": true
   },
   "outputs": [],
   "source": [
    "doink"
   ]
  },
  {
   "cell_type": "code",
   "execution_count": 1,
   "metadata": {},
   "outputs": [
    {
     "name": "stderr",
     "output_type": "stream",
     "text": [
      "C:\\Users\\mgordon\\AppData\\Local\\Continuum\\anaconda3\\envs\\Keras_learn\\lib\\site-packages\\gensim\\utils.py:1197: UserWarning: detected Windows; aliasing chunkize to chunkize_serial\n",
      "  warnings.warn(\"detected Windows; aliasing chunkize to chunkize_serial\")\n"
     ]
    }
   ],
   "source": [
    "import gensim"
   ]
  },
  {
   "cell_type": "code",
   "execution_count": 3,
   "metadata": {},
   "outputs": [],
   "source": [
    "docs = gensim.models.doc2vec.TaggedLineDocument('C:\\\\Users\\\\mgordon\\\\repos\\\\patents\\\\claim500.txt')"
   ]
  },
  {
   "cell_type": "code",
   "execution_count": 11,
   "metadata": {},
   "outputs": [
    {
     "ename": "TypeError",
     "evalue": "object of type 'TaggedLineDocument' has no len()",
     "output_type": "error",
     "traceback": [
      "\u001b[1;31m---------------------------------------------------------------------------\u001b[0m",
      "\u001b[1;31mTypeError\u001b[0m                                 Traceback (most recent call last)",
      "\u001b[1;32m<ipython-input-11-67b294bb33b4>\u001b[0m in \u001b[0;36m<module>\u001b[1;34m()\u001b[0m\n\u001b[1;32m----> 1\u001b[1;33m \u001b[0mlen\u001b[0m\u001b[1;33m(\u001b[0m\u001b[0mdocs\u001b[0m\u001b[1;33m)\u001b[0m\u001b[1;33m\u001b[0m\u001b[0m\n\u001b[0m",
      "\u001b[1;31mTypeError\u001b[0m: object of type 'TaggedLineDocument' has no len()"
     ]
    }
   ],
   "source": []
  },
  {
   "cell_type": "code",
   "execution_count": 9,
   "metadata": {},
   "outputs": [
    {
     "name": "stdout",
     "output_type": "stream",
     "text": [
      "uuid\tpatent_id\ttext\tdependent\tsequence\texemplary\n",
      "\n"
     ]
    }
   ],
   "source": [
    "with open ('C:\\\\Users\\\\mgordon\\\\repos\\\\patents\\\\claim500.txt','r') as f:\n",
    "    f.seek(0)\n",
    "    print(f.readline())"
   ]
  },
  {
   "cell_type": "code",
   "execution_count": null,
   "metadata": {
    "collapsed": true
   },
   "outputs": [],
   "source": []
  }
 ],
 "metadata": {
  "kernelspec": {
   "display_name": "Python 3",
   "language": "python",
   "name": "python3"
  },
  "language_info": {
   "codemirror_mode": {
    "name": "ipython",
    "version": 3
   },
   "file_extension": ".py",
   "mimetype": "text/x-python",
   "name": "python",
   "nbconvert_exporter": "python",
   "pygments_lexer": "ipython3",
   "version": "3.5.4"
  }
 },
 "nbformat": 4,
 "nbformat_minor": 2
}
