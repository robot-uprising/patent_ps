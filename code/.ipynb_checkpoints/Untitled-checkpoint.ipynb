{
 "cells": [
  {
   "cell_type": "code",
   "execution_count": null,
   "metadata": {
    "collapsed": true
   },
   "outputs": [],
   "source": [
    "import numpy as np\n",
    "import pandas as pd\n",
    "import pickle"
   ]
  },
  {
   "cell_type": "code",
   "execution_count": null,
   "metadata": {
    "collapsed": true
   },
   "outputs": [],
   "source": [
    "with open('C:\\\\Users\\\\mgordon\\\\repos\\\\patents\\\\cpc_output.pickle','rb') as h:\n",
    "    patids = pickle.load(h)\n",
    "\n",
    "patids = [str(i) for i in patids]"
   ]
  },
  {
   "cell_type": "code",
   "execution_count": null,
   "metadata": {
    "collapsed": true
   },
   "outputs": [],
   "source": [
    "len(patids)"
   ]
  },
  {
   "cell_type": "code",
   "execution_count": null,
   "metadata": {
    "collapsed": true
   },
   "outputs": [],
   "source": [
    "patids[198]"
   ]
  },
  {
   "cell_type": "code",
   "execution_count": null,
   "metadata": {
    "collapsed": true
   },
   "outputs": [],
   "source": [
    "output = []\n",
    "count = 0"
   ]
  },
  {
   "cell_type": "code",
   "execution_count": null,
   "metadata": {
    "collapsed": true,
    "scrolled": true
   },
   "outputs": [],
   "source": [
    "with open('C:\\\\Users\\\\mgordon\\\\repos\\\\patents\\\\biotech_claims.txt','w') as g:\n",
    "    with open('C:\\\\Users\\\\mgordon\\\\repos\\\\patents\\\\claim.tsv','r') as f:\n",
    "        for chunk in pd.read_table(f, delimiter = '\\t', chunksize=1000):\n",
    "            tmp = (chunk[chunk['patent_id'].isin(patids)][chunk['dependent'].isnull()][['text']].values.tolist())\n",
    "            flat = [item for sublist in tmp for item in sublist]\n",
    "            for claim in flat:\n",
    "                g.write(claim +'\\n')\n",
    "            count += 1\n",
    "            print(count)"
   ]
  },
  {
   "cell_type": "code",
   "execution_count": null,
   "metadata": {
    "collapsed": true
   },
   "outputs": [],
   "source": [
    "with open ('C:\\\\Users\\\\mgordon\\\\repos\\\\patents\\\\claim500.txt','r') as f:\n",
    "    bagga = pd.read_table(f, delimiter = '\\t')"
   ]
  },
  {
   "cell_type": "code",
   "execution_count": null,
   "metadata": {
    "collapsed": true
   },
   "outputs": [],
   "source": [
    "bagga"
   ]
  },
  {
   "cell_type": "code",
   "execution_count": null,
   "metadata": {
    "collapsed": true
   },
   "outputs": [],
   "source": [
    "patids1 = [4968079, 7314340, 8314468, 8823643]\n",
    "patids1 = [str(i) for i in patids1]\n",
    "a = bagga[bagga['patent_id'].isin(patids1)][bagga['dependent'].isnull()][['patent_id']].values.tolist()\n",
    "a"
   ]
  },
  {
   "cell_type": "code",
   "execution_count": null,
   "metadata": {
    "collapsed": true
   },
   "outputs": [],
   "source": [
    "with open('C:\\\\Users\\\\mgordon\\\\repos\\\\patents\\\\claim.tsv','r') as f:\n",
    "    with open('C:\\\\Users\\\\mgordon\\\\repos\\\\patents\\\\claims.tsv','w') as g:\n",
    "        err = 0\n",
    "        line = 'hi'\n",
    "        while line:\n",
    "            try:\n",
    "                line = f.readline()                    \n",
    "                g.write(line)\n",
    "            except UnicodeDecodeError:\n",
    "                err += 1\n",
    "                pass\n",
    "            \n",
    "print(err)                "
   ]
  },
  {
   "cell_type": "code",
   "execution_count": null,
   "metadata": {
    "collapsed": true
   },
   "outputs": [],
   "source": [
    "a = [['a','b'],['c'],['',''],['d']]\n",
    "b = [d for c in a for d in c]\n",
    "b"
   ]
  },
  {
   "cell_type": "code",
   "execution_count": 1,
   "metadata": {
    "collapsed": true
   },
   "outputs": [],
   "source": [
    "import binascii"
   ]
  },
  {
   "cell_type": "code",
   "execution_count": null,
   "metadata": {
    "collapsed": true,
    "scrolled": true
   },
   "outputs": [],
   "source": [
    "with open('C:\\\\Users\\\\mgordon\\\\repos\\\\patents\\\\claim.tsv','rb') as f:\n",
    "    with open('C:\\\\Users\\\\mgordon\\\\repos\\\\patents\\\\claims1.tsv','wb') as g:\n",
    "        err = -1\n",
    "        hexadecimal = b'9d'\n",
    "        while hexadecimal:\n",
    "            if hexadecimal == b'9d':\n",
    "                err += 1\n",
    "                byte = f.read(1)\n",
    "                hexadecimal = binascii.hexlify(byte)\n",
    "            else:\n",
    "                byte = binascii.unhexlify(hexadecimal)\n",
    "                g.write(byte)\n",
    "                byte = f.read(1)\n",
    "                hexadecimal = binascii.hexlify(byte)\n",
    "print(err)"
   ]
  },
  {
   "cell_type": "code",
   "execution_count": null,
   "metadata": {
    "collapsed": true
   },
   "outputs": [],
   "source": [
    "with open('C:\\\\Users\\\\mgordon\\\\repos\\\\patents\\\\claim.tsv','rb') as f:\n",
    "    a = f.read(1)\n",
    "print(a)"
   ]
  },
  {
   "cell_type": "code",
   "execution_count": null,
   "metadata": {
    "collapsed": true
   },
   "outputs": [],
   "source": [
    "f.close()"
   ]
  },
  {
   "cell_type": "code",
   "execution_count": null,
   "metadata": {
    "collapsed": true
   },
   "outputs": [],
   "source": []
  }
 ],
 "metadata": {
  "kernelspec": {
   "display_name": "Python 3",
   "language": "python",
   "name": "python3"
  },
  "language_info": {
   "codemirror_mode": {
    "name": "ipython",
    "version": 3
   },
   "file_extension": ".py",
   "mimetype": "text/x-python",
   "name": "python",
   "nbconvert_exporter": "python",
   "pygments_lexer": "ipython3",
   "version": "3.6.3"
  }
 },
 "nbformat": 4,
 "nbformat_minor": 2
}
