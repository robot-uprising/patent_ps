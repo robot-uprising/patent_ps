{
 "cells": [
  {
   "cell_type": "code",
   "execution_count": null,
   "metadata": {},
   "outputs": [],
   "source": [
    "from io import BytesIO\n",
    "import requests\n",
    "import zipfile\n",
    "import pandas as pd\n",
    "import pickle\n",
    "import gensim"
   ]
  },
  {
   "cell_type": "code",
   "execution_count": null,
   "metadata": {
    "collapsed": true
   },
   "outputs": [],
   "source": [
    "class TaggedLineDocument(object):\n",
    "    def __init__(self, source):\n",
    "        self.source = source\n",
    "\n",
    "    def __iter__(self):\n",
    "        \"\"\"Iterate through the lines in the source.\"\"\"\n",
    "        with gensim.utils.smart_open(self.source) as fin:\n",
    "                for line in fin:\n",
    "                    num, tag, text = gensim.utils.to_unicode(line).split('\\t')\n",
    "                    yield gensim.models.doc2vec.TaggedDocument(text.split(), [tag])"
   ]
  },
  {
   "cell_type": "code",
   "execution_count": null,
   "metadata": {},
   "outputs": [],
   "source": [
    "with open('cpc_output.pickle', 'rb') as f:\n",
    "    patids = pickle.load(f)\n",
    "patids = [str(i) for i in patids]\n",
    "\n",
    "print(len(patids))\n",
    "patids[10]"
   ]
  },
  {
   "cell_type": "code",
   "execution_count": null,
   "metadata": {
    "collapsed": true
   },
   "outputs": [],
   "source": [
    "url = 'http://www.patentsview.org/data/20171226/claim.tsv.zip'\n",
    "response = requests.get(url)"
   ]
  },
  {
   "cell_type": "code",
   "execution_count": null,
   "metadata": {
    "collapsed": true
   },
   "outputs": [],
   "source": [
    "with zipfile.ZipFile(BytesIO(response.content)) as thezip:\n",
    "    claim_file = thezip.open('claim.tsv')"
   ]
  },
  {
   "cell_type": "code",
   "execution_count": null,
   "metadata": {
    "collapsed": true
   },
   "outputs": [],
   "source": [
    "output = pd.DataFrame(columns=['patent_id','text'])"
   ]
  },
  {
   "cell_type": "code",
   "execution_count": null,
   "metadata": {
    "collapsed": true
   },
   "outputs": [],
   "source": [
    "count = 1\n",
    "for chunk in pd.read_table(claim_file, delimiter = '\\t', chunksize=100000):\n",
    "    a = (chunk[chunk['patent_id'].isin(patids)][['patent_id','text']])\n",
    "    if not a.empty:\n",
    "        output = output.append(a)\n",
    "        print(str(count)+' out of 920 steps complete!', end='\\r', flush=True)\n",
    "        count += 1"
   ]
  },
  {
   "cell_type": "code",
   "execution_count": null,
   "metadata": {
    "collapsed": true
   },
   "outputs": [],
   "source": [
    "output.to_csv('biotech_claims.txt', sep='\\t')"
   ]
  },
  {
   "cell_type": "code",
   "execution_count": null,
   "metadata": {
    "collapsed": true
   },
   "outputs": [],
   "source": [
    "documents = TaggedLineDocument('biotech_claims.txt')"
   ]
  },
  {
   "cell_type": "code",
   "execution_count": null,
   "metadata": {
    "collapsed": true
   },
   "outputs": [],
   "source": [
    "model = doc2vec.Doc2Vec(documents, vector_size=300, window=10, min_count=20, workers=12, sample=1e-5, seed = 42, epochs=10)"
   ]
  },
  {
   "cell_type": "code",
   "execution_count": null,
   "metadata": {
    "collapsed": true
   },
   "outputs": [],
   "source": [
    "model.save('claim_embedding.doc2vec')"
   ]
  }
 ],
 "metadata": {
  "kernelspec": {
   "display_name": "Python 3",
   "language": "python",
   "name": "python3"
  },
  "language_info": {
   "codemirror_mode": {
    "name": "ipython",
    "version": 3
   },
   "file_extension": ".py",
   "mimetype": "text/x-python",
   "name": "python",
   "nbconvert_exporter": "python",
   "pygments_lexer": "ipython3",
   "version": "3.5.4"
  }
 },
 "nbformat": 4,
 "nbformat_minor": 2
}
