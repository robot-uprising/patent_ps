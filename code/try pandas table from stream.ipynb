{
 "cells": [
  {
   "cell_type": "code",
   "execution_count": null,
   "metadata": {
    "collapsed": true
   },
   "outputs": [],
   "source": [
    "from io import BytesIO\n",
    "import requests\n",
    "import zipfile"
   ]
  },
  {
   "cell_type": "code",
   "execution_count": null,
   "metadata": {},
   "outputs": [],
   "source": [
    "url = 'http://www.patentsview.org/data/20171226/cpc_current.tsv.zip'"
   ]
  },
  {
   "cell_type": "code",
   "execution_count": null,
   "metadata": {},
   "outputs": [],
   "source": [
    "response = requests.get(url)"
   ]
  },
  {
   "cell_type": "code",
   "execution_count": null,
   "metadata": {
    "collapsed": true
   },
   "outputs": [],
   "source": [
    "with zipfile.ZipFile(BytesIO(response.content)) as thezip:\n",
    "    cpc_file = thezip.open('cpc_current.tsv')"
   ]
  },
  {
   "cell_type": "code",
   "execution_count": null,
   "metadata": {
    "collapsed": true
   },
   "outputs": [],
   "source": [
    "import pandas as pd\n",
    "import numpy as np"
   ]
  },
  {
   "cell_type": "code",
   "execution_count": null,
   "metadata": {
    "scrolled": true
   },
   "outputs": [],
   "source": [
    "output = []\n",
    "sgid1 = ['C12M', 'C12M', 'C12P', 'C12Q', 'C12R', 'C12Y']\n",
    "n=1\n",
    "for chunk in pd.read_table(cpc_file, delimiter = '\\t', chunksize=10000000):\n",
    "    output.append(chunk[chunk['group_id'].isin(sgid1)]['patent_id'])\n",
    "    print(n)\n",
    "    n+=1"
   ]
  },
  {
   "cell_type": "code",
   "execution_count": null,
   "metadata": {
    "collapsed": true
   },
   "outputs": [],
   "source": [
    "out = np.asarray(output)\n",
    "flat = [i for j in out for i in j]\n",
    "\n",
    "post_mayo = []\n",
    "patids = []\n",
    "\n",
    "for i in flat:\n",
    "    if i > 8341762:\n",
    "        post_mayo.append(i)\n",
    "del flat\n",
    "q = 0\n",
    "post_mayo.sort()\n",
    "\n",
    "for i in post_mayo:\n",
    "    if i == q:\n",
    "        pass\n",
    "    else:\n",
    "        patids.append(i)\n",
    "    q = i\n",
    "del post_mayo"
   ]
  },
  {
   "cell_type": "code",
   "execution_count": null,
   "metadata": {},
   "outputs": [],
   "source": [
    "len(patids)"
   ]
  },
  {
   "cell_type": "code",
   "execution_count": 1,
   "metadata": {
    "collapsed": true
   },
   "outputs": [],
   "source": [
    "import pickle"
   ]
  },
  {
   "cell_type": "code",
   "execution_count": 2,
   "metadata": {},
   "outputs": [],
   "source": [
    "with open('cpc_output.pickle', 'rb') as f:\n",
    "    patids = pickle.load(f)"
   ]
  },
  {
   "cell_type": "code",
   "execution_count": 3,
   "metadata": {},
   "outputs": [
    {
     "data": {
      "text/plain": [
       "8388910"
      ]
     },
     "execution_count": 3,
     "metadata": {},
     "output_type": "execute_result"
    }
   ],
   "source": [
    "patids[10]"
   ]
  },
  {
   "cell_type": "code",
   "execution_count": 4,
   "metadata": {},
   "outputs": [
    {
     "data": {
      "text/plain": [
       "22468"
      ]
     },
     "execution_count": 4,
     "metadata": {},
     "output_type": "execute_result"
    }
   ],
   "source": [
    "len(patids)"
   ]
  },
  {
   "cell_type": "code",
   "execution_count": 5,
   "metadata": {
    "collapsed": true
   },
   "outputs": [],
   "source": [
    "patids = [str(i) for i in patids]"
   ]
  },
  {
   "cell_type": "code",
   "execution_count": 6,
   "metadata": {},
   "outputs": [
    {
     "data": {
      "text/plain": [
       "'8388910'"
      ]
     },
     "execution_count": 6,
     "metadata": {},
     "output_type": "execute_result"
    }
   ],
   "source": [
    "patids[10]"
   ]
  },
  {
   "cell_type": "code",
   "execution_count": 7,
   "metadata": {
    "collapsed": true
   },
   "outputs": [],
   "source": [
    "patids.append('7314340')"
   ]
  },
  {
   "cell_type": "code",
   "execution_count": 8,
   "metadata": {
    "collapsed": true
   },
   "outputs": [],
   "source": [
    "patids.append('6689857')"
   ]
  },
  {
   "cell_type": "code",
   "execution_count": 9,
   "metadata": {
    "collapsed": true
   },
   "outputs": [],
   "source": [
    "patids.append('8960115')"
   ]
  },
  {
   "cell_type": "code",
   "execution_count": 10,
   "metadata": {
    "collapsed": true
   },
   "outputs": [],
   "source": [
    "patids.append('7964172')"
   ]
  },
  {
   "cell_type": "code",
   "execution_count": 11,
   "metadata": {
    "collapsed": true
   },
   "outputs": [],
   "source": [
    "import pandas as pd"
   ]
  },
  {
   "cell_type": "code",
   "execution_count": 91,
   "metadata": {
    "collapsed": true
   },
   "outputs": [],
   "source": [
    "f = open('claim500.txt', 'rb')"
   ]
  },
  {
   "cell_type": "code",
   "execution_count": 92,
   "metadata": {},
   "outputs": [],
   "source": [
    "table = pd.read_table(f)\n",
    "table.to_csv('poopi.txt', sep='\\t')"
   ]
  },
  {
   "cell_type": "code",
   "execution_count": 62,
   "metadata": {
    "scrolled": true
   },
   "outputs": [
    {
     "data": {
      "text/html": [
       "<div>\n",
       "<style scoped>\n",
       "    .dataframe tbody tr th:only-of-type {\n",
       "        vertical-align: middle;\n",
       "    }\n",
       "\n",
       "    .dataframe tbody tr th {\n",
       "        vertical-align: top;\n",
       "    }\n",
       "\n",
       "    .dataframe thead th {\n",
       "        text-align: right;\n",
       "    }\n",
       "</style>\n",
       "<table border=\"1\" class=\"dataframe\">\n",
       "  <thead>\n",
       "    <tr style=\"text-align: right;\">\n",
       "      <th></th>\n",
       "      <th>patent_id</th>\n",
       "      <th>text</th>\n",
       "    </tr>\n",
       "  </thead>\n",
       "  <tbody>\n",
       "    <tr>\n",
       "      <th>0</th>\n",
       "      <td>9999999</td>\n",
       "      <td>pooooooooop</td>\n",
       "    </tr>\n",
       "  </tbody>\n",
       "</table>\n",
       "</div>"
      ],
      "text/plain": [
       "  patent_id         text\n",
       "0   9999999  pooooooooop"
      ]
     },
     "execution_count": 62,
     "metadata": {},
     "output_type": "execute_result"
    }
   ],
   "source": [
    "output = pd.DataFrame(columns=['patent_id','text'])\n",
    "inp = pd.DataFrame.from_items([('patent_id',['9999999']),('text',['pooooooooop'])])\n",
    "inp"
   ]
  },
  {
   "cell_type": "code",
   "execution_count": 60,
   "metadata": {},
   "outputs": [
    {
     "data": {
      "text/html": [
       "<div>\n",
       "<style scoped>\n",
       "    .dataframe tbody tr th:only-of-type {\n",
       "        vertical-align: middle;\n",
       "    }\n",
       "\n",
       "    .dataframe tbody tr th {\n",
       "        vertical-align: top;\n",
       "    }\n",
       "\n",
       "    .dataframe thead th {\n",
       "        text-align: right;\n",
       "    }\n",
       "</style>\n",
       "<table border=\"1\" class=\"dataframe\">\n",
       "  <thead>\n",
       "    <tr style=\"text-align: right;\">\n",
       "      <th></th>\n",
       "      <th>patent_id</th>\n",
       "      <th>text</th>\n",
       "    </tr>\n",
       "  </thead>\n",
       "  <tbody>\n",
       "    <tr>\n",
       "      <th>0</th>\n",
       "      <td>9999999</td>\n",
       "      <td>pooooooooop</td>\n",
       "    </tr>\n",
       "  </tbody>\n",
       "</table>\n",
       "</div>"
      ],
      "text/plain": [
       "  patent_id         text\n",
       "0   9999999  pooooooooop"
      ]
     },
     "execution_count": 60,
     "metadata": {},
     "output_type": "execute_result"
    }
   ],
   "source": [
    "output = output.append(inp, ignore_index=True)\n",
    "output"
   ]
  },
  {
   "cell_type": "code",
   "execution_count": 63,
   "metadata": {},
   "outputs": [
    {
     "name": "stdout",
     "output_type": "stream",
     "text": [
      "<class 'pandas.core.frame.DataFrame'>\n",
      "   patent_id                                               text\n",
      "1    7314340  The dual-module hole-punching and binding mach...\n",
      "14   6689857  The imbalanced biaxially oriented HDPE film of...\n",
      "<class 'pandas.core.frame.DataFrame'>\n",
      "    patent_id                                               text\n",
      "1     7314340  The dual-module hole-punching and binding mach...\n",
      "14    6689857  The imbalanced biaxially oriented HDPE film of...\n",
      "288   8551702  The method according to claim 1 wherein the fi...\n",
      "<class 'pandas.core.frame.DataFrame'>\n",
      "    patent_id                                               text\n",
      "1     7314340  The dual-module hole-punching and binding mach...\n",
      "14    6689857  The imbalanced biaxially oriented HDPE film of...\n",
      "288   8551702  The method according to claim 1 wherein the fi...\n",
      "397   8394778  The method of claim 1, wherein the nucleic aci...\n",
      "<class 'pandas.core.frame.DataFrame'>\n",
      "    patent_id                                               text\n",
      "1     7314340  The dual-module hole-punching and binding mach...\n",
      "14    6689857  The imbalanced biaxially oriented HDPE film of...\n",
      "288   8551702  The method according to claim 1 wherein the fi...\n",
      "397   8394778  The method of claim 1, wherein the nucleic aci...\n",
      "492   7964172  The method of claim 3, wherein initial local h...\n",
      "498   8960115  The vehicle of claim 11 wherein the handle noz...\n"
     ]
    }
   ],
   "source": [
    "for chunk in pd.read_table(f, delimiter = '\\t', chunksize=100):\n",
    "    a = (chunk[chunk['patent_id'].isin(patids)][['patent_id','text']])\n",
    "    if not a.empty:\n",
    "        print(type(a))\n",
    "        output = output.append(a)\n",
    "        print(output)"
   ]
  },
  {
   "cell_type": "code",
   "execution_count": 64,
   "metadata": {
    "collapsed": true
   },
   "outputs": [],
   "source": [
    "import numpy as np"
   ]
  },
  {
   "cell_type": "code",
   "execution_count": 74,
   "metadata": {},
   "outputs": [],
   "source": [
    "output.to_csv('poo.txt', sep='\\t')"
   ]
  },
  {
   "cell_type": "code",
   "execution_count": 81,
   "metadata": {},
   "outputs": [
    {
     "name": "stderr",
     "output_type": "stream",
     "text": [
      "C:\\Users\\mgordon\\AppData\\Local\\Continuum\\anaconda3\\envs\\Keras_learn\\lib\\site-packages\\gensim\\utils.py:1197: UserWarning: detected Windows; aliasing chunkize to chunkize_serial\n",
      "  warnings.warn(\"detected Windows; aliasing chunkize to chunkize_serial\")\n"
     ]
    }
   ],
   "source": [
    "import gensim"
   ]
  },
  {
   "cell_type": "code",
   "execution_count": 80,
   "metadata": {},
   "outputs": [
    {
     "name": "stdout",
     "output_type": "stream",
     "text": [
      "['The', 'dual-module', 'hole-punching', 'and', 'binding', 'machine', 'as', 'in', 'claim', '1,', 'wherein', 'the', 'cutting', 'members', 'of', 'the', 'second', 'cutting', 'unit', 'of', 'the', 'second', 'hole-punching', 'unit', 'are', 'arranged', 'as', 'that', 'there', 'are', 'two', 'cutting', 'members', 'per', 'inch', 'of', 'length.']\n",
      "['The', 'imbalanced', 'biaxially', 'oriented', 'HDPE', 'film', 'of', 'claim', '2,', 'wherein', 'the', 'base', 'layer', 'represents', 'from', 'about', '80%', 'to', 'about', '95%', 'of', 'the', 'thickness', 'of', 'the', 'film.']\n",
      "['The', 'method', 'according', 'to', 'claim', '1', 'wherein', 'the', 'first', 'and', 'second', 'anchor', 'probes', 'are', 'ligated', 'together', 'in', 'first', 'step', 'to', 'form', 'an', 'extended', 'anchor,', 'and', 'in', 'a', 'separate', 'subsequent', 'step', 'the', 'sequencing', 'probe', 'is', 'ligated', 'to', 'the', 'extended', 'anchor', 'to', 'form', 'the', 'probe', 'ligation', 'product.']\n",
      "['The', 'method', 'of', 'claim', '1,', 'wherein', 'the', 'nucleic', 'acid', 'inhibitor', 'is', 'an', 'siRNA', 'or', 'shRNA.']\n",
      "['The', 'method', 'of', 'claim', '3,', 'wherein', 'initial', 'local', 'heating', 'is', 'carried', 'out', 'by', 'locally', 'heating', 'about', '1', 'mm3', 'of', 'the', 'homogeneous', 'reactant', 'green', 'mixture', 'to', 'the', 'melting', 'point', 'of', 'magnesium.']\n",
      "['The', 'vehicle', 'of', 'claim', '11', 'wherein', 'the', 'handle', 'nozzles', 'can', 'be', 'rotated', 'through', '360&#xb0;', 'in', 'these', 'planes.']\n"
     ]
    }
   ],
   "source": [
    "out = ww.as_matrix()\n",
    "\n",
    "    "
   ]
  },
  {
   "cell_type": "code",
   "execution_count": 67,
   "metadata": {},
   "outputs": [
    {
     "data": {
      "text/plain": [
       "7314340"
      ]
     },
     "execution_count": 67,
     "metadata": {},
     "output_type": "execute_result"
    }
   ],
   "source": [
    "flat[0]"
   ]
  },
  {
   "cell_type": "code",
   "execution_count": 88,
   "metadata": {
    "collapsed": true
   },
   "outputs": [],
   "source": [
    "class TaggedLineDocument(object):\n",
    "    def __init__(self, source):\n",
    "        self.source = source\n",
    "\n",
    "    def __iter__(self):\n",
    "        \"\"\"Iterate through the lines in the source.\"\"\"\n",
    "        with gensim.utils.smart_open(self.source) as fin:\n",
    "                for line in fin:\n",
    "                    num, tag, text = gensim.utils.to_unicode(line).split('\\t')\n",
    "                    yield gensim.models.doc2vec.TaggedDocument(text.split(), [tag])"
   ]
  },
  {
   "cell_type": "code",
   "execution_count": 89,
   "metadata": {
    "collapsed": true
   },
   "outputs": [],
   "source": [
    "documents = TaggedLineDocument('poo.txt')"
   ]
  },
  {
   "cell_type": "code",
   "execution_count": 90,
   "metadata": {},
   "outputs": [
    {
     "name": "stdout",
     "output_type": "stream",
     "text": [
      "TaggedDocument(['text'], ['patent_id'])\n",
      "TaggedDocument(['The', 'dual-module', 'hole-punching', 'and', 'binding', 'machine', 'as', 'in', 'claim', '1,', 'wherein', 'the', 'cutting', 'members', 'of', 'the', 'second', 'cutting', 'unit', 'of', 'the', 'second', 'hole-punching', 'unit', 'are', 'arranged', 'as', 'that', 'there', 'are', 'two', 'cutting', 'members', 'per', 'inch', 'of', 'length.'], ['7314340'])\n",
      "TaggedDocument(['The', 'imbalanced', 'biaxially', 'oriented', 'HDPE', 'film', 'of', 'claim', '2,', 'wherein', 'the', 'base', 'layer', 'represents', 'from', 'about', '80%', 'to', 'about', '95%', 'of', 'the', 'thickness', 'of', 'the', 'film.'], ['6689857'])\n",
      "TaggedDocument(['The', 'method', 'according', 'to', 'claim', '1', 'wherein', 'the', 'first', 'and', 'second', 'anchor', 'probes', 'are', 'ligated', 'together', 'in', 'first', 'step', 'to', 'form', 'an', 'extended', 'anchor,', 'and', 'in', 'a', 'separate', 'subsequent', 'step', 'the', 'sequencing', 'probe', 'is', 'ligated', 'to', 'the', 'extended', 'anchor', 'to', 'form', 'the', 'probe', 'ligation', 'product.'], ['8551702'])\n",
      "TaggedDocument(['The', 'method', 'of', 'claim', '1,', 'wherein', 'the', 'nucleic', 'acid', 'inhibitor', 'is', 'an', 'siRNA', 'or', 'shRNA.'], ['8394778'])\n",
      "TaggedDocument(['The', 'method', 'of', 'claim', '3,', 'wherein', 'initial', 'local', 'heating', 'is', 'carried', 'out', 'by', 'locally', 'heating', 'about', '1', 'mm3', 'of', 'the', 'homogeneous', 'reactant', 'green', 'mixture', 'to', 'the', 'melting', 'point', 'of', 'magnesium.'], ['7964172'])\n",
      "TaggedDocument(['The', 'vehicle', 'of', 'claim', '11', 'wherein', 'the', 'handle', 'nozzles', 'can', 'be', 'rotated', 'through', '360&#xb0;', 'in', 'these', 'planes.'], ['8960115'])\n"
     ]
    }
   ],
   "source": [
    "for doc in documents:\n",
    "    print(doc)"
   ]
  },
  {
   "cell_type": "code",
   "execution_count": null,
   "metadata": {
    "collapsed": true
   },
   "outputs": [],
   "source": []
  }
 ],
 "metadata": {
  "kernelspec": {
   "display_name": "Python 3",
   "language": "python",
   "name": "python3"
  },
  "language_info": {
   "codemirror_mode": {
    "name": "ipython",
    "version": 3
   },
   "file_extension": ".py",
   "mimetype": "text/x-python",
   "name": "python",
   "nbconvert_exporter": "python",
   "pygments_lexer": "ipython3",
   "version": "3.5.4"
  }
 },
 "nbformat": 4,
 "nbformat_minor": 2
}
