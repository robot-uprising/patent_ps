{
 "cells": [
  {
   "cell_type": "code",
   "execution_count": 2,
   "metadata": {
    "collapsed": true
   },
   "outputs": [],
   "source": [
    "import numpy as np\n",
    "import pandas as pd\n",
    "import pickle\n",
    "from tqdm import tqdm"
   ]
  },
  {
   "cell_type": "code",
   "execution_count": 3,
   "metadata": {
    "collapsed": true
   },
   "outputs": [],
   "source": [
    "sgid = ['C12Q1/68', 'C12N15/09', 'C12M1/00']\n",
    "sgid1 = ['C12M', 'C12M', 'C12P', 'C12Q', 'C12R', 'C12Y']\n",
    "fields = ['uuid', 'patent_id','section_id', 'subsection_id', 'group_id'\n",
    "                            'subgroup_id', 'category', 'sequence']\n",
    "output = []\n",
    "post_mayo = []\n",
    "doink = []"
   ]
  },
  {
   "cell_type": "code",
   "execution_count": null,
   "metadata": {
    "collapsed": true
   },
   "outputs": [],
   "source": []
  },
  {
   "cell_type": "code",
   "execution_count": 12,
   "metadata": {
    "collapsed": true
   },
   "outputs": [],
   "source": [
    "with open('C:\\\\Users\\\\mgordon\\\\repos\\\\patents\\\\cpc_output.pickle','wb') as g:\n",
    "    with open('C:\\\\Users\\\\mgordon\\\\repos\\\\patents\\\\cpc_current.tsv','r') as f:\n",
    "        for chunk in pd.read_table(f, delimiter = '\\t', chunksize=1000000):\n",
    "            output.append(chunk[chunk['group_id'].isin(sgid1)]['patent_id'])\n",
    "    out = np.asarray(output)\n",
    "    flat = [i for j in out for i in j]\n",
    "    for i in flat:\n",
    "        if i > 8341762:\n",
    "            post_mayo.append(i)\n",
    "    q = 0\n",
    "    post_mayo.sort()\n",
    "    for i in post_mayo:\n",
    "        if i == q:\n",
    "            pass\n",
    "        else:\n",
    "            doink.append(i)\n",
    "        q = i    \n",
    "    pickle.dump(doink, g, pickle.HIGHEST_PROTOCOL)"
   ]
  },
  {
   "cell_type": "code",
   "execution_count": 7,
   "metadata": {
    "scrolled": true
   },
   "outputs": [
    {
     "data": {
      "text/plain": [
       "21812"
      ]
     },
     "execution_count": 7,
     "metadata": {},
     "output_type": "execute_result"
    }
   ],
   "source": [
    "len(doink)"
   ]
  },
  {
   "cell_type": "code",
   "execution_count": 10,
   "metadata": {
    "collapsed": true
   },
   "outputs": [],
   "source": [
    "output = []\n",
    "post_mayo = []\n",
    "doink = []\n",
    "with open('C:\\\\Users\\\\mgordon\\\\repos\\\\patents\\\\cpc_output_subgroup.pickle','wb') as g:\n",
    "    with open('C:\\\\Users\\\\mgordon\\\\repos\\\\patents\\\\cpc_current.tsv','r') as f:\n",
    "        for chunk in pd.read_table(f, delimiter = '\\t', chunksize=1000000):\n",
    "            output.append(chunk[chunk['subgroup_id'].isin(sgid)]['patent_id'])\n",
    "    out = np.asarray(output)\n",
    "    flat = [i for j in out for i in j]\n",
    "    for i in flat:\n",
    "        if i > 8341762:\n",
    "            post_mayo.append(i)\n",
    "    q = 0\n",
    "    post_mayo.sort()\n",
    "    for i in post_mayo:\n",
    "        if i == q:\n",
    "            pass\n",
    "        else:\n",
    "            doink.append(i)\n",
    "        q = i    \n",
    "    pickle.dump(out, g, pickle.HIGHEST_PROTOCOL)"
   ]
  },
  {
   "cell_type": "code",
   "execution_count": 11,
   "metadata": {},
   "outputs": [
    {
     "data": {
      "text/plain": [
       "594"
      ]
     },
     "execution_count": 11,
     "metadata": {},
     "output_type": "execute_result"
    }
   ],
   "source": [
    "len(doink)"
   ]
  },
  {
   "cell_type": "code",
   "execution_count": null,
   "metadata": {
    "collapsed": true
   },
   "outputs": [],
   "source": [
    "with open('C:\\\\Users\\\\mgordon\\\\repos\\\\patents\\\\post_mayo_output.pickle','wb') as g:\n",
    "    pickle.dump(post_mayo, g, pickle.HIGHEST_PROTOCOL)"
   ]
  },
  {
   "cell_type": "code",
   "execution_count": null,
   "metadata": {
    "collapsed": true
   },
   "outputs": [],
   "source": [
    "f = open('C:\\\\Users\\\\mgordon\\\\repos\\\\patents\\\\cpc_current.tsv','r')\n",
    "chunky = pd.read_table(f, delimiter = '\\t', chunksize=1000)"
   ]
  },
  {
   "cell_type": "code",
   "execution_count": null,
   "metadata": {},
   "outputs": [],
   "source": [
    "with open('C:\\\\Users\\\\mgordon\\\\repos\\\\patents\\\\post_mayo_output.pickle','rb') as g:\n",
    "    foofoo = pickle.load(g)"
   ]
  },
  {
   "cell_type": "code",
   "execution_count": null,
   "metadata": {},
   "outputs": [],
   "source": [
    "len(foofoo)"
   ]
  },
  {
   "cell_type": "code",
   "execution_count": null,
   "metadata": {},
   "outputs": [],
   "source": [
    "foofoo"
   ]
  },
  {
   "cell_type": "code",
   "execution_count": null,
   "metadata": {},
   "outputs": [],
   "source": [
    "foofoo.sort()"
   ]
  },
  {
   "cell_type": "code",
   "execution_count": null,
   "metadata": {},
   "outputs": [],
   "source": [
    "doink = []\n",
    "q = 0\n",
    "for i in foofoo:\n",
    "    if i == q:\n",
    "        pass\n",
    "    else:\n",
    "        doink.append(i)\n",
    "    q = i"
   ]
  },
  {
   "cell_type": "code",
   "execution_count": null,
   "metadata": {},
   "outputs": [],
   "source": [
    "len(doink)"
   ]
  },
  {
   "cell_type": "code",
   "execution_count": null,
   "metadata": {},
   "outputs": [],
   "source": [
    "doink"
   ]
  },
  {
   "cell_type": "code",
   "execution_count": null,
   "metadata": {
    "collapsed": true
   },
   "outputs": [],
   "source": []
  }
 ],
 "metadata": {
  "kernelspec": {
   "display_name": "Python 3",
   "language": "python",
   "name": "python3"
  },
  "language_info": {
   "codemirror_mode": {
    "name": "ipython",
    "version": 3
   },
   "file_extension": ".py",
   "mimetype": "text/x-python",
   "name": "python",
   "nbconvert_exporter": "python",
   "pygments_lexer": "ipython3",
   "version": "3.5.4"
  }
 },
 "nbformat": 4,
 "nbformat_minor": 2
}
